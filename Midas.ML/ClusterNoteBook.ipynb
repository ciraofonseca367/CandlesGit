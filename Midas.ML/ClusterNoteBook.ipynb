{
 "cells": [
  {
   "cell_type": "code",
   "execution_count": 28,
   "metadata": {},
   "outputs": [],
   "source": [
    "# Loop over files and get features\n",
    "import os, glob, os.path, shutil\n",
    "import numpy as np\n",
    "from sklearn.cluster import KMeans\n",
    "from sklearn.cluster import DBSCAN\n",
    "from sklearn.metrics import silhouette_score\n",
    "import json\n",
    "\n",
    "\n",
    "imgdir = \"/Users/cironola/CandlesFaceImages/Run_ToCluster_MIN15_60/BTCUSDT\"\n",
    "targetdir = \"/Users/cironola/CandlesFaceImages/Clustered_MIN15_60/BTCUSDT\""
   ]
  },
  {
   "cell_type": "code",
   "execution_count": 29,
   "metadata": {},
   "outputs": [
    {
     "name": "stdout",
     "output_type": "stream",
     "text": [
      "[732]\n"
     ]
    }
   ],
   "source": [
    "filelist = glob.glob(os.path.join(imgdir, '*.gif'))\n",
    "filelist.sort()\n",
    "featurelist = []\n",
    "lengthList = []\n",
    "for i, imagepath in enumerate(filelist):\n",
    "    print(\"    Status: %s / %s\" %(i, len(filelist)), end=\"\\r\")\n",
    "\n",
    "    features = []\n",
    "    f = open(imagepath.replace(\"gif\",\"json\"))\n",
    "    try:        \n",
    "        data = json.load(f)\n",
    "        for key, value in data.items():            \n",
    "            #features.append(float(key))\n",
    "            for item in value:\n",
    "                fitem = float(item)\n",
    "                features.append(fitem)\n",
    "\n",
    "        # if(len(features) == 150):\n",
    "        #     features.append(float(0))\n",
    "        #     features.append(float(0))\n",
    "        #     features.append(float(0))\n",
    "        #     features.append(float(0))\n",
    "        #     features.append(float(0))\n",
    "\n",
    "        lengthList.append(len(features))\n",
    "            \n",
    "        featurelist.append(features)\n",
    "\n",
    "    finally:\n",
    "        f.close()\n",
    "\n",
    "print(np.unique(lengthList))"
   ]
  },
  {
   "cell_type": "code",
   "execution_count": 30,
   "metadata": {},
   "outputs": [
    {
     "name": "stdout",
     "output_type": "stream",
     "text": [
      "1/47\n",
      "2/47\n",
      "3/47\n",
      "4/47\n",
      "5/47\n",
      "6/47\n",
      "7/47\n",
      "8/47\n",
      "9/47\n",
      "10/47\n",
      "11/47\n",
      "12/47\n",
      "13/47\n",
      "14/47\n",
      "15/47\n",
      "16/47\n",
      "17/47\n",
      "18/47\n",
      "19/47\n",
      "20/47\n",
      "21/47\n",
      "22/47\n",
      "23/47\n",
      "24/47\n",
      "25/47\n",
      "26/47\n",
      "27/47\n",
      "28/47\n",
      "29/47\n",
      "30/47\n",
      "31/47\n",
      "32/47\n",
      "33/47\n",
      "34/47\n",
      "35/47\n",
      "36/47\n",
      "37/47\n",
      "38/47\n",
      "39/47\n",
      "40/47\n",
      "41/47\n",
      "42/47\n",
      "43/47\n",
      "44/47\n",
      "45/47\n",
      "46/47\n",
      "47/47\n"
     ]
    },
    {
     "data": {
      "image/png": "[encoded data removed]",
      "text/plain": [
       "<Figure size 432x288 with 1 Axes>"
      ]
     },
     "metadata": {
      "needs_background": "light"
     },
     "output_type": "display_data"
    }
   ],
   "source": [
    "import matplotlib.pyplot as plt\n",
    "\n",
    "clusterConfigs = []\n",
    "number=3\n",
    "while number < 50:\n",
    "    clusterConfigs.append(number)\n",
    "    number += 1\n",
    "\n",
    "silScores = []\n",
    "kmeans_results = []\n",
    "i = 1\n",
    "for nc in clusterConfigs:\n",
    "    kmeans = KMeans(n_clusters=nc, random_state=0).fit(np.array(featurelist))\n",
    "    kmeans_results.append(kmeans)\n",
    "    sil_score = silhouette_score(featurelist, kmeans.labels_)\n",
    "    silScores.append(sil_score)\n",
    "    print(f\"{i}/{len(clusterConfigs)}\");\n",
    "    i += 1\n",
    "\n",
    "scores_table = np.array([clusterConfigs, silScores]).transpose()\n",
    "\n",
    "plt.plot(clusterConfigs, silScores)\n",
    "plt.show()"
   ]
  },
  {
   "cell_type": "code",
   "execution_count": 31,
   "metadata": {},
   "outputs": [],
   "source": [
    "cluster_total = 10\n",
    "\n",
    "chosenkmeans = KMeans(n_clusters=cluster_total, random_state=0).fit(np.array(featurelist))\n",
    "\n",
    "try:\n",
    "    os.makedirs(targetdir)\n",
    "except OSError:\n",
    "    pass\n",
    "\n",
    "clusters = {}\n",
    "cn = 0\n",
    "while(cn < cluster_total):\n",
    "    clusters[str(cn)] = [0,0,0,0]\n",
    "    cn += 1\n",
    "\n",
    "for i, m in enumerate(chosenkmeans.labels_):\n",
    "    groupDir = f\"{targetdir}/{str(m)}/\"\n",
    "\n",
    "    try:\n",
    "        os.makedirs(groupDir)\n",
    "    except OSError:\n",
    "        pass\n",
    "\n",
    "    filePath = filelist[i]\n",
    "\n",
    "    if(filePath.find(\"LONG\") > -1):\n",
    "        clusters[str(m)][0] += 1\n",
    "\n",
    "    if(filePath.find(\"SHORT\") > -1):\n",
    "        clusters[str(m)][1] += 1\n",
    "\n",
    "    clusters[str(m)][2] += 1\n",
    "\n",
    "    shutil.copy(filePath, f\"{groupDir}/{os.path.basename(filePath)}\")"
   ]
  },
  {
   "cell_type": "code",
   "execution_count": null,
   "metadata": {},
   "outputs": [],
   "source": []
  }
 ],
 "metadata": {
  "interpreter": {
   "hash": "7a170c672f8d044dff47ece92050208bf1d79900af1fb6c095c8876a89efa96e"
  },
  "kernelspec": {
   "display_name": "Python 3.9.7 64-bit ('base': conda)",
   "language": "python",
   "name": "python3"
  },
  "language_info": {
   "codemirror_mode": {
    "name": "ipython",
    "version": 3
   },
   "file_extension": ".py",
   "mimetype": "text/x-python",
   "name": "python",
   "nbconvert_exporter": "python",
   "pygments_lexer": "ipython3",
   "version": "3.9.7"
  },
  "orig_nbformat": 4
 },
 "nbformat": 4,
 "nbformat_minor": 2
}
